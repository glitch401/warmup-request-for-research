{
 "cells": [
  {
   "cell_type": "code",
   "execution_count": 1,
   "metadata": {},
   "outputs": [
    {
     "name": "stderr",
     "output_type": "stream",
     "text": [
      "Using TensorFlow backend.\n"
     ]
    }
   ],
   "source": [
    "#importing necessary packages\n",
    "import numpy as np\n",
    "from keras.preprocessing.sequence import pad_sequences\n",
    "from keras.models import Sequential\n",
    "from keras.layers import Dense, LSTM,Dropout\n",
    "import matplotlib.pyplot as plt"
   ]
  },
  {
   "cell_type": "code",
   "execution_count": 3,
   "metadata": {},
   "outputs": [],
   "source": [
    "#function to generate the required dataset\n",
    "def generate_samples(length=50,numberOfValues=100000):\n",
    "    '''\n",
    "    Generate the required dataset\n",
    "    \n",
    "    Args:\n",
    "        length: Length of single binary string\n",
    "        numberOfValues: by default is set to 100000, as per the problem statement\n",
    "                        else can be se4t to any comfortable number depending on \n",
    "                        the developing state.\n",
    "    Returns:\n",
    "        Numpy array of binary strings and array of parity bit labels\n",
    "    '''\n",
    "    # Generate random strings of length 50\n",
    "    if length == 50:\n",
    "        data = np.random.randint(2, size=(numberOfValues, length))\n",
    "        labels = [0 if sum(i) % 2 == 0 else 1 for i in data]\n",
    "    # Generate random strings of variable length\n",
    "    else:\n",
    "        data = []\n",
    "        labels = []\n",
    "        for i in range(numberOfValues):\n",
    "            # Choose random length\n",
    "            length = np.random.randint(1, 51)\n",
    "            data.append(np.random.randint(2, size=(length)))\n",
    "            labels.append(0 if sum(data[i]) % 2 == 0 else 1)\n",
    "        data = np.asarray(data)\n",
    "        # Pad binary strings with 0's to make sequence length same for all\n",
    "        data = pad_sequences(data, maxlen=50, padding='pre')\n",
    "\n",
    "    labels = np.asarray(labels)\n",
    "    train_size = data.shape[0]\n",
    "    size = int(train_size * 0.20)\n",
    "    # Split data into train/test sets\n",
    "    X_test = data[:size]\n",
    "    X_train = data[size:]\n",
    "    y_test = labels[:size]\n",
    "    y_train = labels[size:]\n",
    "    # Expand dimension to feed into LSTM layer\n",
    "    X_train = np.expand_dims(X_train, axis=2)\n",
    "    X_test = np.expand_dims(X_test, axis=2)\n",
    "\n",
    "    return X_train, y_train, X_test, y_test"
   ]
  },
  {
   "cell_type": "code",
   "execution_count": 4,
   "metadata": {},
   "outputs": [],
   "source": [
    "def build_model():\n",
    "    ''' Build LSTM model using Keras\n",
    "    Args:\n",
    "        None\n",
    "    Returns:\n",
    "        Compiled LSTM model\n",
    "    '''\n",
    "    model = Sequential()\n",
    "    model.add(LSTM(32, input_shape=(50, 1)))\n",
    "    model.add(Dense(1, activation='relu'))\n",
    "    model.add(Dropout(0.2))\n",
    "    # Display model summary\n",
    "    model.summary()\n",
    "    model.compile('adam', loss='binary_crossentropy', metrics=['acc'])\n",
    "\n",
    "    return model"
   ]
  },
  {
   "cell_type": "code",
   "execution_count": 5,
   "metadata": {},
   "outputs": [],
   "source": [
    "def plot_model(history):\n",
    "    ''' Plot model accuracy and loss\n",
    "    Args:\n",
    "        history: Keras dictionary contatining training/validation loss/acc\n",
    "    Returns:\n",
    "        Plots model's training/validation loss and accuracy history\n",
    "    '''\n",
    "    loss = history.history['loss']\n",
    "    val_loss = history.history['val_loss']\n",
    "\n",
    "    epochs = range(1, len(loss) + 1)\n",
    "\n",
    "    plt.figure()\n",
    "    plt.plot(epochs, loss, 'bo', label='Training loss')\n",
    "    plt.plot(epochs, val_loss, 'b', label='Validation loss')\n",
    "    plt.title('Training and validation loss')\n",
    "    plt.xlabel('Epochs')\n",
    "    plt.ylabel('Loss')\n",
    "    plt.legend()\n",
    "\n",
    "    plt.figure()\n",
    "    acc = history.history['acc']\n",
    "    val_acc = history.history['val_acc']\n",
    "\n",
    "    plt.plot(epochs, acc, 'bo', label='Training acc')\n",
    "    plt.plot(epochs, val_acc, 'b', label='Validation acc')\n",
    "    plt.title('Training and validation accuracy')\n",
    "    plt.xlabel('Epochs')\n",
    "    plt.ylabel('Loss')\n",
    "    plt.legend()\n",
    "\n",
    "    plt.show()\n",
    "    return"
   ]
  },
  {
   "cell_type": "code",
   "execution_count": null,
   "metadata": {},
   "outputs": [
    {
     "name": "stdout",
     "output_type": "stream",
     "text": [
      "_________________________________________________________________\n",
      "Layer (type)                 Output Shape              Param #   \n",
      "=================================================================\n",
      "lstm_2 (LSTM)                (None, 32)                4352      \n",
      "_________________________________________________________________\n",
      "dense_2 (Dense)              (None, 1)                 33        \n",
      "_________________________________________________________________\n",
      "dropout_2 (Dropout)          (None, 1)                 0         \n",
      "=================================================================\n",
      "Total params: 4,385\n",
      "Trainable params: 4,385\n",
      "Non-trainable params: 0\n",
      "_________________________________________________________________\n",
      "Train on 64000 samples, validate on 16000 samples\n",
      "Epoch 1/25\n",
      "64000/64000 [==============================] - 45s 701us/step - loss: 2.1786 - acc: 0.5001 - val_loss: 0.7141 - val_acc: 0.5022\n",
      "Epoch 2/25\n",
      "64000/64000 [==============================] - 41s 639us/step - loss: 2.1945 - acc: 0.4978 - val_loss: 0.7107 - val_acc: 0.5022\n",
      "Epoch 3/25\n",
      "64000/64000 [==============================] - 42s 660us/step - loss: 2.1740 - acc: 0.5015 - val_loss: 0.7062 - val_acc: 0.5022\n",
      "Epoch 4/25\n",
      "64000/64000 [==============================] - 44s 686us/step - loss: 2.1419 - acc: 0.5050 - val_loss: 0.7180 - val_acc: 0.5022\n",
      "Epoch 5/25\n",
      "64000/64000 [==============================] - 47s 729us/step - loss: 2.1873 - acc: 0.5008 - val_loss: 0.7221 - val_acc: 0.5022\n",
      "Epoch 6/25\n",
      "64000/64000 [==============================] - 51s 798us/step - loss: 2.1774 - acc: 0.5022 - val_loss: 0.7143 - val_acc: 0.5022\n",
      "Epoch 7/25\n",
      "64000/64000 [==============================] - 48s 752us/step - loss: 2.1524 - acc: 0.4999 - val_loss: 0.7131 - val_acc: 0.5022\n",
      "Epoch 8/25\n",
      "60800/64000 [===========================>..] - ETA: 2s - loss: 2.1826 - acc: 0.4978"
     ]
    }
   ],
   "source": [
    "'''\n",
    "To test the first waarmup 1 case :\n",
    "fixed length of binary strings=50\n",
    "'''\n",
    "n_epochs=25\n",
    "batch_size=32\n",
    "validation_split=0.2\n",
    "flag_shuffle=True\n",
    "\n",
    "X_train, y_train, X_test, y_test=generate_samples()\n",
    "XOR_model=build_model()\n",
    "\n",
    "history=XOR_model.fit(X_train,y_train,epochs=n_epochs,\n",
    "                      batch_size=batch_size,\n",
    "                      validation_split=validation_split,\n",
    "                      shuffle=flag_shuffle)\n",
    "# Evaluate model on test set\n",
    "preds = XOR_model.predict(X_test)\n",
    "preds = np.round(preds[:, 0]).astype('float32')\n",
    "acc = (np.sum(preds == y_test) / len(y_test)) * 100.\n",
    "print('Accuracy: {:.2f}%'.format(acc))\n",
    "\n",
    "# Plot model acc and loss\n",
    "plot_model(history)\n"
   ]
  },
  {
   "cell_type": "code",
   "execution_count": null,
   "metadata": {},
   "outputs": [],
   "source": []
  }
 ],
 "metadata": {
  "kernelspec": {
   "display_name": "Python 3",
   "language": "python",
   "name": "python3"
  },
  "language_info": {
   "codemirror_mode": {
    "name": "ipython",
    "version": 3
   },
   "file_extension": ".py",
   "mimetype": "text/x-python",
   "name": "python",
   "nbconvert_exporter": "python",
   "pygments_lexer": "ipython3",
   "version": "3.6.7"
  }
 },
 "nbformat": 4,
 "nbformat_minor": 2
}
